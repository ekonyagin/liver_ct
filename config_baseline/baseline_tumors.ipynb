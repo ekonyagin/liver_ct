{
 "cells": [
  {
   "cell_type": "code",
   "execution_count": null,
   "metadata": {},
   "outputs": [],
   "source": [
    "from collections import OrderedDict\n",
    "\n",
    "from dpipe.im.visualize import slice3d\n",
    "import dpipe.im.metrics as metrics\n",
    "import dpipe.io\n",
    "\n",
    "from liver_localization import SelectSlice\n",
    "from model import get_unet\n",
    "import numpy as np\n",
    "\n",
    "import os\n",
    "\n",
    "from tensorboardX import SummaryWriter\n",
    "\n",
    "import torchvision\n",
    "import torch\n",
    "import torch.nn as nn\n",
    "from torch.utils.data import Dataset, DataLoader\n",
    "\n",
    "from functools import partial"
   ]
  },
  {
   "cell_type": "code",
   "execution_count": 22,
   "metadata": {},
   "outputs": [
    {
     "name": "stdout",
     "output_type": "stream",
     "text": [
      "0 15\n",
      "16 31\n",
      "32 47\n",
      "48 63\n",
      "64 79\n",
      "73 88\n"
     ]
    }
   ],
   "source": [
    "def get_patches(length):\n",
    "    for i in range(length//16):\n",
    "        yield i*16, (i+1)*16-1\n",
    "    yield(length-16,length-1)\n",
    "for a,b in get_patches(89):\n",
    "    print(a,b)"
   ]
  },
  {
   "cell_type": "code",
   "execution_count": 12,
   "metadata": {},
   "outputs": [
    {
     "ename": "NameError",
     "evalue": "name 'Dataset' is not defined",
     "output_type": "error",
     "traceback": [
      "\u001b[0;31m---------------------------------------------------------------------------\u001b[0m",
      "\u001b[0;31mNameError\u001b[0m                                 Traceback (most recent call last)",
      "\u001b[0;32m<ipython-input-12-a948bce283fb>\u001b[0m in \u001b[0;36m<module>\u001b[0;34m\u001b[0m\n\u001b[0;32m----> 1\u001b[0;31m \u001b[0;32mclass\u001b[0m \u001b[0mLiverDataset\u001b[0m\u001b[0;34m(\u001b[0m\u001b[0mDataset\u001b[0m\u001b[0;34m)\u001b[0m\u001b[0;34m:\u001b[0m\u001b[0;34m\u001b[0m\u001b[0;34m\u001b[0m\u001b[0m\n\u001b[0m\u001b[1;32m      2\u001b[0m     def __init__(self, path=\"/home/egor/LITS/LITS_reoriented/\", \n\u001b[1;32m      3\u001b[0m                  \u001b[0mpath_to_preds\u001b[0m\u001b[0;34m=\u001b[0m\u001b[0;34m\"/home/egor/LITS/liver_preds/\"\u001b[0m\u001b[0;34m,\u001b[0m\u001b[0;34m\u001b[0m\u001b[0;34m\u001b[0m\u001b[0m\n\u001b[1;32m      4\u001b[0m                  min_val=-300., max_val=300.,train=True):\n\u001b[1;32m      5\u001b[0m \u001b[0;34m\u001b[0m\u001b[0m\n",
      "\u001b[0;31mNameError\u001b[0m: name 'Dataset' is not defined"
     ]
    }
   ],
   "source": [
    "class LiverDataset(Dataset):\n",
    "    def __init__(self, path=\"/home/egor/LITS/LITS_reoriented/\", \n",
    "                 path_to_preds=\"/home/egor/LITS/liver_preds/\",\n",
    "                 min_val=-300., max_val=300.,train=True):\n",
    "        \n",
    "        self.indices = sorted([int(i[:-4]) for i in sorted(os.listdir(path_to_preds))])\n",
    "        if train:\n",
    "            self.indices = self.indices[:int(0.9*len(self.indices))]\n",
    "        else:\n",
    "            self.indices = self.indices[int(0.9*len(self.indices)):]\n",
    "        self.path = path\n",
    "        self.path_to_preds = path_to_preds\n",
    "        self.transforms = torchvision.transforms.Compose([torchvision.transforms.ToTensor(), ])\n",
    "        self.len = len(self.indices)\n",
    "        \n",
    "    def __getname__(self, idx):\n",
    "        elem = self.indices[idx]\n",
    "        \n",
    "        if(os.path.exists(os.path.join(self.path,f\"segmentation-{elem}.nii\"))):\n",
    "            seg_name = os.path.join(self.path,f\"segmentation-{elem}.nii\")\n",
    "        else:\n",
    "            seg_name = os.path.join(self.path,f\"segmentation-{elem}_ras.nii\")\n",
    "        \n",
    "        if(os.path.exists(os.path.join(self.path,f\"volume-{elem}.nii\"))):\n",
    "            vol_name = os.path.join(self.path,f\"volume-{elem}.nii\")\n",
    "        else:\n",
    "            vol_name = os.path.join(self.path,f\"volume-{elem}_ras.nii\")\n",
    "        \n",
    "        return vol_name, seg_name\n",
    "    \n",
    "    def __getslice__(self, idx):\n",
    "        elem = self.indices[idx]\n",
    "        pred_name = os.path.join(self.path_to_preds, f\"{elem}.npy\")\n",
    "        #print(\"__getslice__: \", pred_name, end='\\t')\n",
    "        pred = (dpipe.io.load(pred_name)>0.5)[0][0]\n",
    "        _, (min_idx, max_idx) = SelectSlice(pred, return_indices=True)\n",
    "        return (min_idx, max_idx)\n",
    "        \n",
    "    def scale_ct(self, x: np.ndarray, min_value: float = -300., max_value: float = 300.):\n",
    "        x = np.float32(np.clip(x, a_min=min_value, a_max=max_value))\n",
    "        x -= np.min(x)\n",
    "        return x\n",
    "        x /= np.max(x)\n",
    "        \n",
    "    def __getitem__(self, idx):\n",
    "        #print(idx)\n",
    "        min_idx, max_idx = self.__getslice__(idx)\n",
    "        vol_name, seg_name = self.__getname__(idx)\n",
    "        #print(\"__getitem__:\", vol_name, seg_name)\n",
    "        vol = self.scale_ct(dpipe.io.load(vol_name))\n",
    "        seg = torch.tensor(dpipe.io.load(seg_name)==2,\n",
    "                           dtype=torch.float32).permute(2,0,1)\n",
    "        \n",
    "        \n",
    "        vol = self.transforms(vol)\n",
    "        vol = vol.type(torch.float32)\n",
    "        \n",
    "        vol = vol[min_idx:max_idx,:,:]\n",
    "        seg = seg[min_idx:max_idx,:,:]\n",
    "        \n",
    "        #print(vol.shape)\n",
    "        #print(seg.shape)\n",
    "        return vol.unsqueeze(dim=0), seg.unsqueeze(dim=0)\n",
    "    def __len__(self):\n",
    "        return self.len"
   ]
  },
  {
   "cell_type": "code",
   "execution_count": null,
   "metadata": {},
   "outputs": [],
   "source": [
    "writer = SummaryWriter(logdir=\"./logdir\")\n",
    "\n",
    "train_dataset = LiverDataset()\n",
    "train_loader = DataLoader(train_dataset, shuffle=True, num_workers=4)\n",
    "\n",
    "val_dataset = LiverDataset(train=False)\n",
    "val_loader = DataLoader(val_dataset, num_workers=4)\n",
    "\n",
    "RESULT_DIR = \"./results\"\n",
    "if os.path.exists(RESULT_DIR)==False:\n",
    "    os.mkdir(RESULT_DIR)"
   ]
  },
  {
   "cell_type": "code",
   "execution_count": null,
   "metadata": {},
   "outputs": [],
   "source": [
    "model = get_unet(1,1)\n",
    "_ = model.cuda()"
   ]
  },
  {
   "cell_type": "code",
   "execution_count": null,
   "metadata": {},
   "outputs": [],
   "source": [
    "criterion = nn.BCELoss()\n",
    "\n",
    "hist = {\"train_loss\": [],\n",
    "        \"val_loss\": []}\n",
    "\n",
    "train_len = len(train_loader)"
   ]
  },
  {
   "cell_type": "code",
   "execution_count": null,
   "metadata": {},
   "outputs": [],
   "source": [
    "lr = 1e-4\n",
    "optimizer = torch.optim.Adam(model.parameters(), lr)\n",
    "num_epochs = 20"
   ]
  },
  {
   "cell_type": "code",
   "execution_count": null,
   "metadata": {},
   "outputs": [],
   "source": [
    "for i in range(num_epochs):\n",
    "    \n",
    "    model.train()\n",
    "    k_max = len(train_loader)\n",
    "    for k, (img, mask) in enumerate(train_loader):  \n",
    "        img = img.cuda()\n",
    "        mask = mask.cuda()\n",
    "        pred = model(img)\n",
    "        loss = criterion(pred, mask)\n",
    "        print(\"loss computed\")\n",
    "        writer.add_scalar(\"Train loss\", loss.detach().item())\n",
    "        loss.backward()\n",
    "        optimizer.zero_grad()\n",
    "        optimizer.step()\n",
    "        \n",
    "        pred_cpu = pred.detach().cpu().numpy()>0.5\n",
    "        mask_cpu = mask.cpu().numpy() > 0.5\n",
    "        hausdorff_distance = metrics.hausdorff_distance(pred_cpu, mask_cpu)\n",
    "        dice_loss = metrics.dice_loss(pred_cpu, mask_cpu)\n",
    "        writer.add_scalar(\"Train Hausdorff\", hausdorff_distance)\n",
    "        writer.add_scalar(\"Train dice loss\", dice_loss)\n",
    "\n",
    "        print(f\"Epoch {i}/{num_epochs} iter {k}/{k_max}\", end = \"\\r\")\n",
    "    \n",
    "    torch.save(model.state_dict(), os.path.join(RESULT_DIR ,f\"model_{i}.pt\"))\n",
    "    with torch.no_grad():\n",
    "        model.eval()\n",
    "        \n",
    "        k_max = len(val_loader)\n",
    "        for k, (img_layers, mask_layers) in enumerate(val_loader):  \n",
    "            img = img.cuda()\n",
    "            mask = mask.cuda()\n",
    "            pred = model(img)\n",
    "            loss = criterion(pred, mask)\n",
    "            writer.add_scalar(\"Train loss\", loss.item())\n",
    "            \n",
    "            pred_cpu = pred.detach().cpu().numpy()>0.5\n",
    "            mask_cpu = mask.cpu().numpy() > 0.5\n",
    "            hausdorff_distance = metrics.hausdorff_distance(pred_cpu, mask_cpu)\n",
    "            dice_loss = metrics.dice_loss(pred_cpu, mask_cpu)\n",
    "            writer.add_scalar(\"Val Hausdorff\", hausdorff_distance)\n",
    "            writer.add_scalar(\"val dice loss\", dice_loss)\n"
   ]
  },
  {
   "cell_type": "code",
   "execution_count": null,
   "metadata": {},
   "outputs": [],
   "source": []
  }
 ],
 "metadata": {
  "kernelspec": {
   "display_name": "Python 3",
   "language": "python",
   "name": "python3"
  },
  "language_info": {
   "codemirror_mode": {
    "name": "ipython",
    "version": 3
   },
   "file_extension": ".py",
   "mimetype": "text/x-python",
   "name": "python",
   "nbconvert_exporter": "python",
   "pygments_lexer": "ipython3",
   "version": "3.6.9"
  }
 },
 "nbformat": 4,
 "nbformat_minor": 4
}
