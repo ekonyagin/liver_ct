{
 "cells": [
  {
   "cell_type": "code",
   "execution_count": null,
   "metadata": {},
   "outputs": [],
   "source": [
    "import numpy as np\n",
    "\n",
    "from dpipe.dataset.segmentation import SegmentationFromCSV\n",
    "from dpipe.dataset.wrappers import Proxy\n",
    "from dpipe.im.shape_ops import zoom\n",
    "from dpipe.io import load\n",
    "from liver_ct.liver_localization import SelectSlice\n",
    "import os\n",
    "\n",
    "class CC359(SegmentationFromCSV):\n",
    "    def __init__(self, data_path, modalities= ['CT'], target='target', metadata_rpath='meta.csv', thresh=0.5):\n",
    "        super().__init__(data_path=data_path,\n",
    "                         modalities=modalities,\n",
    "                         target=target,\n",
    "                         metadata_rpath=metadata_rpath)\n",
    "        self.df.index = range(len(self.df))\n",
    "        self.threshold = thresh\n",
    "    \n",
    "    def get_indices(self, i):\n",
    "        fname = os.path.join(self.path, self.df.loc[i].pred)\n",
    "        print(fname)\n",
    "        pred = load(fname)[0][0] > self.threshold\n",
    "        print(pred.shape)\n",
    "        ind_min, ind_max = SelectSlice(pred)\n",
    "        return 2*ind_min, 2*ind_max\n",
    "        \n",
    "    def load_image(self, i):\n",
    "        #fname = os.path.join(self.path, self.df.loc[i].CT)\n",
    "        img = np.float32(super().load_image(i)[0])  # 4D -> 3D\n",
    "        ind_min, ind_max = self.get_indices(i)\n",
    "        return img[:,:,ind_min:ind_max]\n",
    "\n",
    "    def load_segm(self, i):\n",
    "        return   # already 3D\n",
    "        img = np.float32(super().load_segm(i)==2)\n",
    "        ind_min, ind_max = self.get_indices(i)\n",
    "        return img[:,:,ind_min:ind_max]\n",
    "\n",
    "    def load_shape(self, i):\n",
    "        return np.int32(np.shape(self.load_segm(i)))\n"
   ]
  },
  {
   "cell_type": "code",
   "execution_count": null,
   "metadata": {},
   "outputs": [],
   "source": [
    "dset = CC359(\"/home/egor/LITS/LITS_reoriented\", metadata_rpath='meta_with_preds.csv')"
   ]
  },
  {
   "cell_type": "code",
   "execution_count": null,
   "metadata": {},
   "outputs": [],
   "source": [
    "dset.path"
   ]
  },
  {
   "cell_type": "code",
   "execution_count": null,
   "metadata": {
    "scrolled": false
   },
   "outputs": [],
   "source": [
    "dset.df.head()"
   ]
  },
  {
   "cell_type": "code",
   "execution_count": null,
   "metadata": {},
   "outputs": [],
   "source": [
    "dset.get_indices(5)"
   ]
  },
  {
   "cell_type": "code",
   "execution_count": null,
   "metadata": {},
   "outputs": [],
   "source": [
    "seg = dset.load_segm(5)"
   ]
  },
  {
   "cell_type": "code",
   "execution_count": null,
   "metadata": {},
   "outputs": [],
   "source": [
    "from dpipe.im.visualize import slice3d"
   ]
  },
  {
   "cell_type": "code",
   "execution_count": null,
   "metadata": {},
   "outputs": [],
   "source": [
    "slice3d(seg)"
   ]
  },
  {
   "cell_type": "code",
   "execution_count": null,
   "metadata": {},
   "outputs": [],
   "source": [
    "((seg[:,:, 378])==1).sum()"
   ]
  },
  {
   "cell_type": "code",
   "execution_count": null,
   "metadata": {},
   "outputs": [],
   "source": []
  }
 ],
 "metadata": {
  "kernelspec": {
   "display_name": "Python 3",
   "language": "python",
   "name": "python3"
  },
  "language_info": {
   "codemirror_mode": {
    "name": "ipython",
    "version": 3
   },
   "file_extension": ".py",
   "mimetype": "text/x-python",
   "name": "python",
   "nbconvert_exporter": "python",
   "pygments_lexer": "ipython3",
   "version": "3.6.9"
  }
 },
 "nbformat": 4,
 "nbformat_minor": 4
}
